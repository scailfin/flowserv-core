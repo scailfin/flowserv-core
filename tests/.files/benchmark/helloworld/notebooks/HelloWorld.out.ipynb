{
 "cells": [
  {
   "cell_type": "code",
   "execution_count": 1,
   "id": "lined-louisiana",
   "metadata": {
    "execution": {
     "iopub.execute_input": "2021-06-03T09:42:18.618814Z",
     "iopub.status.busy": "2021-06-03T09:42:18.618060Z",
     "iopub.status.idle": "2021-06-03T09:42:18.621130Z",
     "shell.execute_reply": "2021-06-03T09:42:18.620340Z"
    },
    "papermill": {
     "duration": 0.021632,
     "end_time": "2021-06-03T09:42:18.621344",
     "exception": false,
     "start_time": "2021-06-03T09:42:18.599712",
     "status": "completed"
    },
    "tags": []
   },
   "outputs": [],
   "source": [
    "import os"
   ]
  },
  {
   "cell_type": "code",
   "execution_count": 2,
   "id": "regular-medium",
   "metadata": {
    "execution": {
     "iopub.execute_input": "2021-06-03T09:42:18.637491Z",
     "iopub.status.busy": "2021-06-03T09:42:18.637008Z",
     "iopub.status.idle": "2021-06-03T09:42:18.639558Z",
     "shell.execute_reply": "2021-06-03T09:42:18.638875Z"
    },
    "papermill": {
     "duration": 0.011459,
     "end_time": "2021-06-03T09:42:18.639702",
     "exception": false,
     "start_time": "2021-06-03T09:42:18.628243",
     "status": "completed"
    },
    "tags": [
     "parameters"
    ]
   },
   "outputs": [],
   "source": [
    "# Place holders for template parameters.\n",
    "\n",
    "inputfile = None\n",
    "outputfile = None\n",
    "greeting = 'Hello'\n"
   ]
  },
  {
   "cell_type": "code",
   "execution_count": 3,
   "id": "narrow-provincial",
   "metadata": {
    "execution": {
     "iopub.execute_input": "2021-06-03T09:42:18.654656Z",
     "iopub.status.busy": "2021-06-03T09:42:18.653997Z",
     "iopub.status.idle": "2021-06-03T09:42:18.656688Z",
     "shell.execute_reply": "2021-06-03T09:42:18.656278Z"
    },
    "papermill": {
     "duration": 0.011148,
     "end_time": "2021-06-03T09:42:18.656795",
     "exception": false,
     "start_time": "2021-06-03T09:42:18.645647",
     "status": "completed"
    },
    "tags": [
     "injected-parameters"
    ]
   },
   "outputs": [],
   "source": [
    "# Parameters\n",
    "inputfile = \"data/names.txt\"\n",
    "outputfile = \"results/greetings.txt\"\n",
    "greeting = \"Hey there\"\n"
   ]
  },
  {
   "cell_type": "code",
   "execution_count": 4,
   "id": "permanent-journey",
   "metadata": {
    "execution": {
     "iopub.execute_input": "2021-06-03T09:42:18.674888Z",
     "iopub.status.busy": "2021-06-03T09:42:18.674075Z",
     "iopub.status.idle": "2021-06-03T09:42:18.677391Z",
     "shell.execute_reply": "2021-06-03T09:42:18.676886Z"
    },
    "papermill": {
     "duration": 0.012866,
     "end_time": "2021-06-03T09:42:18.677498",
     "exception": false,
     "start_time": "2021-06-03T09:42:18.664632",
     "status": "completed"
    },
    "tags": []
   },
   "outputs": [
    {
     "name": "stdout",
     "output_type": "stream",
     "text": [
      "data/names.txt\n",
      "results/greetings.txt\n",
      "Hey there\n"
     ]
    }
   ],
   "source": [
    "print(inputfile)\n",
    "print(outputfile)\n",
    "print(greeting)"
   ]
  },
  {
   "cell_type": "code",
   "execution_count": 5,
   "id": "pregnant-works",
   "metadata": {
    "execution": {
     "iopub.execute_input": "2021-06-03T09:42:18.694149Z",
     "iopub.status.busy": "2021-06-03T09:42:18.693402Z",
     "iopub.status.idle": "2021-06-03T09:42:18.696894Z",
     "shell.execute_reply": "2021-06-03T09:42:18.696308Z"
    },
    "papermill": {
     "duration": 0.012196,
     "end_time": "2021-06-03T09:42:18.697044",
     "exception": false,
     "start_time": "2021-06-03T09:42:18.684848",
     "status": "completed"
    },
    "scrolled": true,
    "tags": []
   },
   "outputs": [
    {
     "name": "stdout",
     "output_type": "stream",
     "text": [
      "data/names.txt\n"
     ]
    }
   ],
   "source": [
    "# Read names from input file.  Get path to the\n",
    "# input file from input argument 'inputfile'.\n",
    "\n",
    "print(inputfile)\n",
    "with open(inputfile, 'rt') as f:\n",
    "    names = list([line.strip() for line in f])"
   ]
  },
  {
   "cell_type": "code",
   "execution_count": 6,
   "id": "computational-handy",
   "metadata": {
    "execution": {
     "iopub.execute_input": "2021-06-03T09:42:18.711464Z",
     "iopub.status.busy": "2021-06-03T09:42:18.710995Z",
     "iopub.status.idle": "2021-06-03T09:42:18.713234Z",
     "shell.execute_reply": "2021-06-03T09:42:18.712839Z"
    },
    "papermill": {
     "duration": 0.010203,
     "end_time": "2021-06-03T09:42:18.713347",
     "exception": false,
     "start_time": "2021-06-03T09:42:18.703144",
     "status": "completed"
    },
    "tags": []
   },
   "outputs": [],
   "source": [
    "# Ensure that the output directory exists. Get path to the\n",
    "# output file from input argument 'outputfile'.\n",
    "\n",
    "os.makedirs(os.path.dirname(outputfile), exist_ok=True)"
   ]
  },
  {
   "cell_type": "code",
   "execution_count": 7,
   "id": "protecting-assessment",
   "metadata": {
    "execution": {
     "iopub.execute_input": "2021-06-03T09:42:18.729732Z",
     "iopub.status.busy": "2021-06-03T09:42:18.729243Z",
     "iopub.status.idle": "2021-06-03T09:42:18.732284Z",
     "shell.execute_reply": "2021-06-03T09:42:18.731732Z"
    },
    "papermill": {
     "duration": 0.014157,
     "end_time": "2021-06-03T09:42:18.732425",
     "exception": false,
     "start_time": "2021-06-03T09:42:18.718268",
     "status": "completed"
    },
    "tags": []
   },
   "outputs": [],
   "source": [
    "# Write greetings to output file.\n",
    "\n",
    "with open(outputfile, 'wt') as f:\n",
    "    for name in names:\n",
    "        f.write(f'{greeting} {name}!\\n')"
   ]
  }
 ],
 "metadata": {
  "celltoolbar": "Tags",
  "kernelspec": {
   "display_name": "Python 3",
   "language": "python",
   "name": "python3"
  },
  "language_info": {
   "codemirror_mode": {
    "name": "ipython",
    "version": 3
   },
   "file_extension": ".py",
   "mimetype": "text/x-python",
   "name": "python",
   "nbconvert_exporter": "python",
   "pygments_lexer": "ipython3",
   "version": "3.9.1"
  },
  "papermill": {
   "default_parameters": {},
   "duration": 1.46568,
   "end_time": "2021-06-03T09:42:18.947180",
   "environment_variables": {},
   "exception": null,
   "input_path": "notebooks/HelloWorld.ipynb",
   "output_path": "/home/heiko/projects/scailfin/flowserv-core/tests/.files/benchmark/helloworld/notebooks/HelloWorld.out.ipynb",
   "parameters": {
    "greeting": "Hey there",
    "inputfile": "data/names.txt",
    "outputfile": "results/greetings.txt"
   },
   "start_time": "2021-06-03T09:42:17.481500",
   "version": "2.3.3"
  }
 },
 "nbformat": 4,
 "nbformat_minor": 5
}