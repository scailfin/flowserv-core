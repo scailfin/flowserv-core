{
 "cells": [
  {
   "cell_type": "code",
   "execution_count": null,
   "id": "lined-louisiana",
   "metadata": {},
   "outputs": [],
   "source": [
    "import os"
   ]
  },
  {
   "cell_type": "code",
   "execution_count": null,
   "id": "regular-medium",
   "metadata": {
    "tags": [
     "parameters"
    ]
   },
   "outputs": [],
   "source": [
    "# Place holders for template parameters.\n",
    "\n",
    "inputfile = None\n",
    "outputfile = None\n",
    "greeting = None\n"
   ]
  },
  {
   "cell_type": "code",
   "execution_count": null,
   "id": "pregnant-works",
   "metadata": {
    "scrolled": true
   },
   "outputs": [],
   "source": [
    "# Read names from input file.  Get path to the\n",
    "# input file from input argument 'inputfile'.\n",
    "\n",
    "with open(inputfile, 'rt') as f:\n",
    "    names = list([line.strip() for line in f])"
   ]
  },
  {
   "cell_type": "code",
   "execution_count": null,
   "id": "computational-handy",
   "metadata": {},
   "outputs": [],
   "source": [
    "# Ensure that the output directory exists. Get path to the\n",
    "# output file from input argument 'outputfile'.\n",
    "\n",
    "os.makedirs(os.path.dirname(outputfile), exist_ok=True)"
   ]
  },
  {
   "cell_type": "code",
   "execution_count": null,
   "id": "protecting-assessment",
   "metadata": {},
   "outputs": [],
   "source": [
    "# Write greetings to output file.\n",
    "\n",
    "with open(outputfile, 'wt') as f:\n",
    "    for name in names:\n",
    "        f.write(f'{greeting} {name}!\\n')"
   ]
  }
 ],
 "metadata": {
  "celltoolbar": "Tags",
  "kernelspec": {
   "display_name": "Python 3",
   "language": "python",
   "name": "python3"
  },
  "language_info": {
   "codemirror_mode": {
    "name": "ipython",
    "version": 3
   },
   "file_extension": ".py",
   "mimetype": "text/x-python",
   "name": "python",
   "nbconvert_exporter": "python",
   "pygments_lexer": "ipython3",
   "version": "3.9.1"
  }
 },
 "nbformat": 4,
 "nbformat_minor": 5
}
