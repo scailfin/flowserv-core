{
 "cells": [
  {
   "cell_type": "code",
   "execution_count": 1,
   "metadata": {},
   "outputs": [],
   "source": [
    "# The Flowserv class provides the clinet that allows\n",
    "# to install and run workflow templates.\n",
    "from flowserv.client import Flowserv\n",
    "\n",
    "# When creating an instance of the client the user can\n",
    "# provide a base directory where all workflow files will be\n",
    "# stored. If no directory is given a temporary directory\n",
    "# will be created. If the 'clear' flag is True all existing\n",
    "# files in the based directory will be removed.\n",
    "# By setting the open access flag to 'True' we avoid having\n",
    "# to authenticate a user before instealling and running a\n",
    "# workflow.\n",
    "client = Flowserv(basedir='.flowserv', open_access=True, clear=True)"
   ]
  },
  {
   "cell_type": "code",
   "execution_count": 2,
   "metadata": {},
   "outputs": [
    {
     "name": "stdout",
     "output_type": "stream",
     "text": [
      "helloworld\tHello World Demo\n",
      "toptagger\tTop Tagger Demo - ML4Jets\n",
      "piesingle\tAnalyze single colony image using PIE\n"
     ]
    }
   ],
   "source": [
    "from flowserv.client import FlowservRepo\n",
    "\n",
    "# Get a list of workflow templates that are available from\n",
    "# the flowserv repository.\n",
    "for template_id, description, _ in FlowservRepo().list():\n",
    "    print('{}\\t{}'.format(template_id, description))"
   ]
  },
  {
   "cell_type": "code",
   "execution_count": 3,
   "metadata": {},
   "outputs": [
    {
     "name": "stdout",
     "output_type": "stream",
     "text": [
      "cloning into /tmp/tmp73rlsfe6\n",
      "Copy files from local file system at /tmp/tmp73rlsfe6 to local file system at /home/heiko/.cache/flowserv\n",
      "copied ngrams.py to helloworld/static/code/ngrams.py\n",
      "copied analyze.py to helloworld/static/code/analyze.py\n",
      "copied postproc.py to helloworld/static/code/postproc.py\n",
      "copied helloworld.py to helloworld/static/code/helloworld.py\n",
      "installed workflow with id helloworld\n"
     ]
    }
   ],
   "source": [
    "# Install the 'Hello World!' template in the created environment.\n",
    "# The template is installed directly from the flowserv workflow\n",
    "# repository. For this example we ignore the post-processing step.\n",
    "# Note that we explicitly specify the workflow identifier. This\n",
    "# implies that running this notebook cell again (without first\n",
    "# recreating the client) will raise an exception for duplicate\n",
    "# workflow identifiers. To avoid this problem omit the identifier\n",
    "# argument and let flowserv create a new unique identifier for the\n",
    "# installed workflow.\n",
    "workflow_id = client.install('helloworld', identifier='helloworld', ignore_postproc=True, verbose=True)\n",
    "\n",
    "print('installed workflow with id {}'.format(workflow_id))"
   ]
  },
  {
   "cell_type": "code",
   "execution_count": 4,
   "metadata": {},
   "outputs": [
    {
     "name": "stdout",
     "output_type": "stream",
     "text": [
      "Hello World Demo\n",
      "\n",
      "Hello World Demo for ROB\n",
      "\n",
      "This example benchmark is adopted from the REANA Hello World Demo. The workflow has a single step that takes a text file with person names as input, together with a greeting phrase, and a sleep time. For each name in the input file a greeting will be written to an output file that is the concatenation of the greeting phrase and the name. For the purpose of this demo the result file is then analyzed to compute a score for every workflow run. Analysis computes the number of distinct 3-grams in the output file. The overall score is the number of 3-grams divided by the number of lines in the output file. The goal is to achieve a high score.\n"
     ]
    }
   ],
   "source": [
    "# Get the workflow handle.\n",
    "\n",
    "workflow = client.open(workflow_id)\n",
    "\n",
    "print(workflow.name())\n",
    "print()\n",
    "print(workflow.description())\n",
    "print()\n",
    "print(workflow.instructions())"
   ]
  },
  {
   "cell_type": "code",
   "execution_count": 5,
   "metadata": {},
   "outputs": [
    {
     "name": "stdout",
     "output_type": "stream",
     "text": [
      "run with {'inputfile': 'data/names.txt', 'outputfile': 'results/greetings.txt', 'sleeptime': 2.0, 'greeting': 'Hey there'}\n",
      "Workflow finished with SUCCESS\n"
     ]
    }
   ],
   "source": [
    "# Run the 'Hello World' workflow. The list of input names\n",
    "# can be read from a file or given as an io buffer.\n",
    "from io import StringIO\n",
    "\n",
    "names = StringIO('\\n'.join(['Alice', 'Bob', 'Claire', 'Dave']))\n",
    "args = dict({\n",
    "    'greeting': 'Hey there',\n",
    "    'sleeptime': 2,\n",
    "    'names': names\n",
    "})\n",
    "\n",
    "run = workflow.start_run(args)\n",
    "\n",
    "print('Workflow finished with {}'.format(run))"
   ]
  },
  {
   "cell_type": "code",
   "execution_count": 6,
   "metadata": {},
   "outputs": [
    {
     "name": "stdout",
     "output_type": "stream",
     "text": [
      "results/greetings.txt\n",
      "results/analytics.json\n"
     ]
    }
   ],
   "source": [
    "# List names of all run result files.\n",
    "\n",
    "for f in run.files():\n",
    "    print(f.name)"
   ]
  },
  {
   "cell_type": "code",
   "execution_count": 7,
   "metadata": {},
   "outputs": [
    {
     "name": "stdout",
     "output_type": "stream",
     "text": [
      "b'Hey there Alice'\n",
      "b'Hey there Bob'\n",
      "b'Hey there Claire'\n",
      "b'Hey there Dave'\n"
     ]
    }
   ],
   "source": [
    "# Print greetings file.\n",
    "\n",
    "with run.get_file('results/greetings.txt').load().open() as f:\n",
    "    for line in f:\n",
    "        print(line.strip())"
   ]
  },
  {
   "cell_type": "code",
   "execution_count": 8,
   "metadata": {},
   "outputs": [],
   "source": [
    "# Erase will delete the base directory.\n",
    "client.erase()"
   ]
  }
 ],
 "metadata": {
  "kernelspec": {
   "display_name": "Python 3",
   "language": "python",
   "name": "python3"
  },
  "language_info": {
   "codemirror_mode": {
    "name": "ipython",
    "version": 3
   },
   "file_extension": ".py",
   "mimetype": "text/x-python",
   "name": "python",
   "nbconvert_exporter": "python",
   "pygments_lexer": "ipython3",
   "version": "3.9.1"
  }
 },
 "nbformat": 4,
 "nbformat_minor": 4
}
