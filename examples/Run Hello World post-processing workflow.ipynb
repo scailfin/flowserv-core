{
 "cells": [
  {
   "cell_type": "code",
   "execution_count": 1,
   "metadata": {},
   "outputs": [],
   "source": [
    "# Create a fresh local flowserv instance for test purposes. For this example\n",
    "# we execute the first step using Docker to show how flowServ supports workflow\n",
    "# execution using different backends.\n",
    "\n",
    "from flowserv.client import Flowserv\n",
    "\n",
    "client = Flowserv(basedir='.flowserv', clear=True)\n",
    "\n",
    "from flowserv.controller.worker.manager import Docker\n",
    "config = {\n",
    "    'workers': [Docker(identifier='python:3.7')],\n",
    "    'workflow': [\n",
    "        {'step': 'say_hello', 'worker': 'python:3.7'} \n",
    "    ]\n",
    "}\n"
   ]
  },
  {
   "cell_type": "code",
   "execution_count": 2,
   "metadata": {},
   "outputs": [
    {
     "name": "stdout",
     "output_type": "stream",
     "text": [
      "cloning into /tmp/tmpvuq5bxsr\n"
     ]
    }
   ],
   "source": [
    "# Install the 'Hello World' benchmark as a multi-user workflow.\n",
    "# If a workflow is installed as multi-user we explicitly need to\n",
    "# create users and user submissions before running the workflow.\n",
    "workflow_id = client.install('helloworld', multi_user=True, ignore_postproc=False)"
   ]
  },
  {
   "cell_type": "code",
   "execution_count": 3,
   "metadata": {},
   "outputs": [
    {
     "name": "stdout",
     "output_type": "stream",
     "text": [
      "register alice with id b15e5ccdc3594c039ac713a96d86e3f4\n",
      "register bob with id 95c58ab21f824589a2f6a9613439686f\n"
     ]
    }
   ],
   "source": [
    "# Register users 'aclice' and 'bob'\n",
    "user_id = client.register(username='alice', password='pwd_alice')\n",
    "print('register alice with id {}'.format(user_id))\n",
    "user_id = client.register(username='bob', password='pwd_bob')\n",
    "print('register bob with id {}'.format(user_id))"
   ]
  },
  {
   "cell_type": "code",
   "execution_count": 4,
   "metadata": {},
   "outputs": [],
   "source": [
    "# Before being able to start a workflow run we need to create\n",
    "# a new submission.\n",
    "\n",
    "client.login(username='alice', password='pwd_alice')\n",
    "team_alice = client.create_submission(workflow_id, name='Team Alice')"
   ]
  },
  {
   "cell_type": "code",
   "execution_count": 5,
   "metadata": {},
   "outputs": [],
   "source": [
    "# Load a workflow object representing the submission for 'Team Alice'.\n",
    "# This workflow can then be used to submit runs (start_run).\n",
    "submission = client.submission(workflow_id=workflow_id, group_id=team_alice)\n",
    "\n",
    "from io import StringIO\n",
    "\n",
    "names = StringIO('\\n'.join(['Alice', 'Bob', 'Claire', 'Dave']))\n",
    "args = dict({\n",
    "    'greeting': 'Hey there',\n",
    "    'sleeptime': 0.2,\n",
    "    'names': names\n",
    "})\n",
    "run = submission.start_run(args, config=config)\n",
    "assert run.is_success()"
   ]
  },
  {
   "cell_type": "code",
   "execution_count": 6,
   "metadata": {},
   "outputs": [],
   "source": [
    "# Repeat run submission for 'bob'\n",
    "\n",
    "client.login(username='bob', password='pwd_bob')\n",
    "team_bob = client.create_submission(workflow_id, name='Team Bob')"
   ]
  },
  {
   "cell_type": "code",
   "execution_count": 7,
   "metadata": {},
   "outputs": [],
   "source": [
    "# Run workflow for 'Team Bob'.\n",
    "submission = client.submission(workflow_id=workflow_id, group_id=team_bob)\n",
    "\n",
    "from io import StringIO\n",
    "\n",
    "names = StringIO('\\n'.join(['Elizabeth-Anne', 'Francisco', 'Georgia', 'Howard', 'Isabella', 'Jacob']))\n",
    "args = dict({\n",
    "    'greeting': 'Welcome',\n",
    "    'sleeptime': 0.2,\n",
    "    'names': names\n",
    "})\n",
    "run = submission.start_run(args, config=config)\n",
    "assert run.is_success()"
   ]
  },
  {
   "cell_type": "code",
   "execution_count": 8,
   "metadata": {},
   "outputs": [
    {
     "name": "stdout",
     "output_type": "stream",
     "text": [
      "results/ngrams.csv\n",
      "results/compare.json\n"
     ]
    }
   ],
   "source": [
    "# Get handle for post-processing results and list the\n",
    "# available files.\n",
    "postrun = submission.get_postproc_results()\n",
    "for f in postrun.files():\n",
    "    print(f.name)"
   ]
  },
  {
   "cell_type": "code",
   "execution_count": 9,
   "metadata": {},
   "outputs": [
    {
     "name": "stdout",
     "output_type": "stream",
     "text": [
      "WEL,6\n",
      "ELC,6\n",
      "LCO,6\n",
      "COM,6\n",
      "OME,6\n",
      "HEY,4\n",
      "THE,4\n",
      "HER,4\n",
      "ERE,4\n",
      "ABE,2\n",
      "ELI,1\n",
      "LIZ,1\n",
      "IZA,1\n",
      "ZAB,1\n",
      "BET,1\n",
      "ETH,1\n",
      "TH-,1\n",
      "H-A,1\n",
      "-AN,1\n",
      "ANN,1\n",
      "NNE,1\n",
      "FRA,1\n",
      "RAN,1\n",
      "ANC,1\n",
      "NCI,1\n"
     ]
    }
   ],
   "source": [
    "# Print results in the ngrams.csv file\n",
    "with postrun.open_file('results/ngrams.csv') as f:\n",
    "    for line in f:\n",
    "        print(line.decode('utf-8').strip())"
   ]
  },
  {
   "cell_type": "code",
   "execution_count": 10,
   "metadata": {},
   "outputs": [],
   "source": [
    "# Remove all generated files\n",
    "client.erase()"
   ]
  }
 ],
 "metadata": {
  "kernelspec": {
   "display_name": "Python 3",
   "language": "python",
   "name": "python3"
  },
  "language_info": {
   "codemirror_mode": {
    "name": "ipython",
    "version": 3
   },
   "file_extension": ".py",
   "mimetype": "text/x-python",
   "name": "python",
   "nbconvert_exporter": "python",
   "pygments_lexer": "ipython3",
   "version": "3.9.1"
  }
 },
 "nbformat": 4,
 "nbformat_minor": 4
}
